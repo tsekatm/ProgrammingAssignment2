{
  "nbformat": 4,
  "nbformat_minor": 0,
  "metadata": {
    "colab": {
      "provenance": [],
      "collapsed_sections": [
        "UMNPnf2i5SWr",
        "jD-9Sma-ruMm",
        "DJeVFrBtw_kA",
        "wp_BS7DmxDcu",
        "aFlF1bDQxHQO",
        "_Czt2xj3xKtQ",
        "apQZLg4WxQaT",
        "5Kk6d63OxVQo",
        "figZW-P0xWHu",
        "QhEXtwvIxZhP",
        "AZaNOe10xhBd",
        "T8474dmmmBii",
        "KoqcSYwQxtRK",
        "oPUu3IMexvkM",
        "TsVuSiuK9vLo",
        "AX1eFoHBxioZ",
        "xN0KYDlrxjzF",
        "1KGAN1h-rhUT",
        "6mfDGqy38176",
        "BDggmS7ur3Wg",
        "Am56-sCnr6vi",
        "5enr7YOCsGiO",
        "czwZIoMP8yq2",
        "UVhxQgFF8KI_",
        "vRf4lpd38TE8",
        "qOcy-X35HV_t",
        "HX5OKWTeH3y7",
        "V3vakOO6H9Vh",
        "RMTv6MI1IIT_",
        "HHygJvHMIPgh",
        "x_Sf1NXPpz0q",
        "EqUWEUsNINyj",
        "ExGMoK-pIb8p",
        "ZfjZLNgMIeYh",
        "dqhVm_8kN2tl",
        "VtTVm3cvN_lP",
        "qIxhQwTHOIjm",
        "JdKpybEFOJOM",
        "XJoETlR_OKHt",
        "8w3U0HVEOccy",
        "hDZ9eDtmOgLi",
        "SxIaU06sOuYQ",
        "GuR57OHgOBnM",
        "eaq4UrFLONmb",
        "bSurXHq_OOjc",
        "hnyRRASVOPq4",
        "okwTjEZ_PCiN",
        "80kHsk0gQiX5",
        "r6CjXb92QsKs",
        "_We_Aif3Q_n5",
        "sVrIv1ucRAtY",
        "xaLN8jeYRDll",
        "dGKEWiBwTVFM",
        "WnXWTn9WTaJs",
        "96-FMInjQs5S",
        "z9M2LwKAQvN_",
        "fnRxw0qjQ1aZ",
        "HA99lKmhQ68W",
        "z7mA-mghTmOc",
        "qcpLR3a_XPLd",
        "EnaCUxpRXT0J",
        "ZX5LhYDuXV2O",
        "7vliBrC5Xk65",
        "0xG8q15EXnW_",
        "2gYk4uIZYFKf",
        "7vPUGzblYGj1",
        "IhBdAGNeXa9N",
        "kBHUUpINXev4",
        "c10_umZGgZFg",
        "hdEWP1SNnFHp",
        "_TGroESwnRos",
        "TbJ6OFKqnUTy",
        "HxuW_VVCnVgw",
        "8LarnuTTnalz",
        "VSxz3OK9nb4P",
        "_xf8ei3mnc3-",
        "C4tY9xM-n6jP",
        "qxG8RHFnniJT",
        "dQlkT13Gnjid",
        "6Pdl8p-QnmN1",
        "93yfMyQWnovw",
        "6T7Z10zUnquf",
        "l4aSf1SQnsIc",
        "wW6zZPzHpPkw",
        "Tj7-43EzpXKP",
        "9CbPFikcpb65",
        "8TToTfDxpcsC",
        "O0n2jmlupeUe",
        "uBJfTBcDpooj",
        "xVpVBXPkprnS",
        "05xi5W5kpsYM",
        "51qEP6JSPg9C",
        "6FPcCNvHPg9C",
        "UrzlX2PAPg9D",
        "zZMhtcyKPg9D",
        "aaDkAavRPg9F",
        "o3FubeYJPg9G",
        "F-cYvbRLPg9H",
        "9JpHyMEVPg9H",
        "8pqC5pJyPg9I",
        "q66BN7RvPg9I",
        "Mu9AI_JgPg9I",
        "fILA2wa1Pg9I",
        "4aXsW2GUPg9J",
        "MEOskCnnPg9J",
        "-b40aEogYPKP",
        "lY-G45bwqiq8",
        "pZnqvIFlqrcF",
        "iO82jGS5qwik",
        "iU4HK7hrqiMO",
        "UoUvopuiqz1A",
        "_BlOlAaNq4Aj",
        "yDuSe7aAq56q",
        "rYrnAuYBryYC",
        "WOi0gv2Dr83t",
        "GgSYzCUYsCWG",
        "-bAG0iH2sDiV",
        "47gh_27esFHZ",
        "m1FOyDx-r_C_",
        "PgsptduxsKGg",
        "88bM7tZ2sLI4",
        "6YEN1jq9PtzP",
        "f_VMd-XSPtzU",
        "TlEbZxoPPtzU",
        "YZ_A9HlhPtzW",
        "NR4Jj5KOPtzX"
      ],
      "include_colab_link": true
    },
    "kernelspec": {
      "name": "python3",
      "display_name": "Python 3"
    },
    "language_info": {
      "name": "python"
    }
  },
  "cells": [
    {
      "cell_type": "markdown",
      "metadata": {
        "id": "view-in-github",
        "colab_type": "text"
      },
      "source": [
        "<a href=\"https://colab.research.google.com/github/tsekatm/ProgrammingAssignment2/blob/master/%5Bpython_practice_Notebook%5D_AfterWork_Introduction_to_Python_Programming.ipynb\" target=\"_parent\"><img src=\"https://colab.research.google.com/assets/colab-badge.svg\" alt=\"Open In Colab\"/></a>"
      ]
    },
    {
      "cell_type": "markdown",
      "metadata": {
        "id": "O1ZGC3xPs0Ta"
      },
      "source": [
        "<font color=\"blue\">To use this notebook on Colaboratory, you will need to make a copy of it. Go to File > Save a Copy in Drive. You can then use the new copy that will appear in the new tab.</font>\n"
      ]
    },
    {
      "cell_type": "markdown",
      "metadata": {
        "id": "UMNPnf2i5SWr"
      },
      "source": [
        "# [Practice Notebook] AfterWork: Introduction to Python Programming"
      ]
    },
    {
      "cell_type": "markdown",
      "metadata": {
        "id": "jD-9Sma-ruMm"
      },
      "source": [
        "# 1. Variables, Printing and Comments"
      ]
    },
    {
      "cell_type": "markdown",
      "metadata": {
        "id": "DJeVFrBtw_kA"
      },
      "source": [
        "## 1. Variables"
      ]
    },
    {
      "cell_type": "markdown",
      "metadata": {
        "id": "JzTFFLH9hofg"
      },
      "source": [
        "**Variable** are containers that we use to store data for further use or manipulation."
      ]
    },
    {
      "cell_type": "markdown",
      "metadata": {
        "id": "wp_BS7DmxDcu"
      },
      "source": [
        "#### <font color=\"blue\">Examples</font>"
      ]
    },
    {
      "cell_type": "markdown",
      "metadata": {
        "id": "aFlF1bDQxHQO"
      },
      "source": [
        "##### <font color=\"blue\">Example 1</font>"
      ]
    },
    {
      "cell_type": "code",
      "metadata": {
        "id": "XPERUCVo5aTx",
        "colab": {
          "base_uri": "https://localhost:8080/"
        },
        "outputId": "9b8414db-4ce8-40b6-fefc-5bd6af37503a"
      },
      "source": [
        "# Example 1\n",
        "# ---\n",
        "# Running this cell won't output anything because we have not asked python to do that.\n",
        "# However, it will run anything that is not a comment. In our case, running this cell will\n",
        "# execute the last line of our cell where we assign the value 10 to the variable a.\n",
        "# A few rules about variables is that they must begin with a letter, underscore,\n",
        "# or non-number character. They must also not have spaces in between.\n",
        "# We use the equals sign, =, which is called an assignment operator to perform the assignment operation.\n",
        "# In programming languages, creating a variable is known as declaring a variable.\n",
        "# ---\n",
        "# OUR CODE GOES BELOW\n",
        "#\n",
        "a = 10\n",
        "print(a)"
      ],
      "execution_count": 2,
      "outputs": [
        {
          "output_type": "stream",
          "name": "stdout",
          "text": [
            "10\n"
          ]
        }
      ]
    },
    {
      "cell_type": "markdown",
      "metadata": {
        "id": "_Czt2xj3xKtQ"
      },
      "source": [
        "##### <font color=\"blue\">Example 2</font>"
      ]
    },
    {
      "cell_type": "code",
      "metadata": {
        "id": "u6IDQwRc5bWn",
        "colab": {
          "base_uri": "https://localhost:8080/"
        },
        "outputId": "3e7adf03-cf7c-4414-9265-198cc096cdb2"
      },
      "source": [
        "# Example 2\n",
        "# ---\n",
        "# In the previous example, we used the value 10 which is an integer.\n",
        "# Let's now see how we store text. In Python we use the word string to refer to a piece of text.\n",
        "# We'll assign the string Earth to the variable planet by enclosing the value in quotes \"\".\n",
        "# The quotes can be double \"\" or single ''.\n",
        "# Again, running this cell won't output anything, it will only run our code.\n",
        "# ---\n",
        "# OUR CODE GOES BELOW\n",
        "#\n",
        "planet = \"Earth\"\n",
        "print(\"Earth\")"
      ],
      "execution_count": 3,
      "outputs": [
        {
          "output_type": "stream",
          "name": "stdout",
          "text": [
            "Earth\n"
          ]
        }
      ]
    },
    {
      "cell_type": "markdown",
      "metadata": {
        "id": "apQZLg4WxQaT"
      },
      "source": [
        "##### <font color=\"blue\">Example 3</font>"
      ]
    },
    {
      "cell_type": "code",
      "metadata": {
        "id": "pO96_Ivb5cHT",
        "colab": {
          "base_uri": "https://localhost:8080/"
        },
        "outputId": "23e1a8e8-f496-4306-d8c7-bc4b3b6625c9"
      },
      "source": [
        "# Example 3\n",
        "# ---\n",
        "# In example 1 and 2, we assigned values of different nature i.e. an integer 10 and a string \"Earth\".\n",
        "# We will now learn how to assign values of different nature to a variable i.e. lists, dictionaries, etc.\n",
        "# Don't worry so much about what lists and dictionaries are. We'll learn about the soon.\n",
        "# This is a list: [\"This list has number element\", 4]\n",
        "# We store it just like we did the other values in the previous section.\n",
        "# ---\n",
        "# OUR CODE GOES BELOW\n",
        "#\n",
        "\n",
        "four = [\"This list has number element\", 4]\n",
        "print(four)"
      ],
      "execution_count": 4,
      "outputs": [
        {
          "output_type": "stream",
          "name": "stdout",
          "text": [
            "['This list has number element', 4]\n"
          ]
        }
      ]
    },
    {
      "cell_type": "markdown",
      "metadata": {
        "id": "5Kk6d63OxVQo"
      },
      "source": [
        "#### <font color=\"green\">Challenges</font>"
      ]
    },
    {
      "cell_type": "markdown",
      "metadata": {
        "id": "figZW-P0xWHu"
      },
      "source": [
        "##### <font color=\"green\">Challenge 1</font>"
      ]
    },
    {
      "cell_type": "code",
      "metadata": {
        "id": "9mCpedG0xcfs",
        "colab": {
          "base_uri": "https://localhost:8080/"
        },
        "outputId": "ed1b3d8c-1a77-4941-de54-b5087188b21b"
      },
      "source": [
        "# Challenge 1\n",
        "# ---\n",
        "# Question: Create a variable named account then assign it with the string 10,000.\n",
        "# Just note this is not the answer: account = 10,000 or this account = 10000\n",
        "# Hint: Learn from example 2.\n",
        "# ---\n",
        "# YOUR CODE GOES BELOW\n",
        "account = \"10000\"\n",
        "print(account)"
      ],
      "execution_count": 5,
      "outputs": [
        {
          "output_type": "stream",
          "name": "stdout",
          "text": [
            "10000\n"
          ]
        }
      ]
    },
    {
      "cell_type": "markdown",
      "metadata": {
        "id": "QhEXtwvIxZhP"
      },
      "source": [
        "##### <font color=\"green\">Challenge 2</font>"
      ]
    },
    {
      "cell_type": "code",
      "metadata": {
        "id": "SRG0iMPQxdHT",
        "colab": {
          "base_uri": "https://localhost:8080/"
        },
        "outputId": "ddf060b9-b08a-4ab8-e997-c067fe6df29c"
      },
      "source": [
        "# Challenge 2\n",
        "# ---\n",
        "# Question: Assign the name J.K Rowling to the variable author.\n",
        "# ---\n",
        "# YOUR CODE GOES BELOW\n",
        "author = \"J.K Rowling\"\n",
        "print(author)"
      ],
      "execution_count": 6,
      "outputs": [
        {
          "output_type": "stream",
          "name": "stdout",
          "text": [
            "J.K Rowling\n"
          ]
        }
      ]
    },
    {
      "cell_type": "markdown",
      "metadata": {
        "id": "AZaNOe10xhBd"
      },
      "source": [
        "## 2. Printing"
      ]
    },
    {
      "cell_type": "markdown",
      "metadata": {
        "id": "rAZBWVKUjBKS"
      },
      "source": [
        "The **print()** function prints something on the screen. We'll use this function to reveal what is stored in a variable."
      ]
    },
    {
      "cell_type": "markdown",
      "metadata": {
        "id": "T8474dmmmBii"
      },
      "source": [
        "#### <font color=\"blue\">Examples</font>"
      ]
    },
    {
      "cell_type": "markdown",
      "metadata": {
        "id": "KoqcSYwQxtRK"
      },
      "source": [
        "##### <font color=\"blue\">Example 1</font>"
      ]
    },
    {
      "cell_type": "code",
      "metadata": {
        "id": "ai3ZxHpcxw-J",
        "colab": {
          "base_uri": "https://localhost:8080/"
        },
        "outputId": "39558116-6f11-4be9-a7b3-2256add55a02"
      },
      "source": [
        "# Example 1\n",
        "# ---\n",
        "# Question: Print the text \"Hello!\" in the output console of this cell.\n",
        "# ---\n",
        "# The print function can take in a string as an argument and print in it out\n",
        "# in the console. Let's run this cell to see this in action.\n",
        "# ----\n",
        "# OUR CODE GOES BELOW\n",
        "#\n",
        "print(\"Hello!\")"
      ],
      "execution_count": 7,
      "outputs": [
        {
          "output_type": "stream",
          "name": "stdout",
          "text": [
            "Hello!\n"
          ]
        }
      ]
    },
    {
      "cell_type": "markdown",
      "metadata": {
        "id": "oPUu3IMexvkM"
      },
      "source": [
        "##### <font color=\"blue\">Example 2</font>"
      ]
    },
    {
      "cell_type": "code",
      "metadata": {
        "id": "4f4aOFsExyJa",
        "colab": {
          "base_uri": "https://localhost:8080/"
        },
        "outputId": "ffd78c0a-5a74-4f0a-c647-f9994f0e6da6"
      },
      "source": [
        "# Example 3\n",
        "# ---\n",
        "# Question: Print out the following set named colors = {'red', 'green', 'blue'},\n",
        "# in the output console below\n",
        "# ---\n",
        "# We can also print out what's stored in a variable by simply writing the variable\n",
        "# in a new line and the running the code as shown. Notice we don't use the print function.\n",
        "# ---\n",
        "# OUR CODE GOES BELOW\n",
        "#\n",
        "colors = {'red', 'green', 'blue'}\n",
        "colors"
      ],
      "execution_count": 8,
      "outputs": [
        {
          "output_type": "execute_result",
          "data": {
            "text/plain": [
              "{'blue', 'green', 'red'}"
            ]
          },
          "metadata": {},
          "execution_count": 8
        }
      ]
    },
    {
      "cell_type": "markdown",
      "metadata": {
        "id": "TsVuSiuK9vLo"
      },
      "source": [
        "#### <font color=\"green\">Challenges</font>"
      ]
    },
    {
      "cell_type": "markdown",
      "metadata": {
        "id": "AX1eFoHBxioZ"
      },
      "source": [
        "##### <font color=\"green\">Challenge 1</font>"
      ]
    },
    {
      "cell_type": "code",
      "metadata": {
        "id": "h5d4FLXDxmd4",
        "colab": {
          "base_uri": "https://localhost:8080/"
        },
        "outputId": "28b29879-508f-461e-af51-8b87b78e13e1"
      },
      "source": [
        "# Challenge 1\n",
        "# ---\n",
        "# Question: Using the print function print out this statement: \"I am excited to learn Data Science\"\n",
        "# ---\n",
        "# YOUR CODE GOES BELOW\n",
        "#\n",
        "print(\"I am excited to learn Data Science\")"
      ],
      "execution_count": 9,
      "outputs": [
        {
          "output_type": "stream",
          "name": "stdout",
          "text": [
            "I am excited to learn Data Science\n"
          ]
        }
      ]
    },
    {
      "cell_type": "markdown",
      "metadata": {
        "id": "xN0KYDlrxjzF"
      },
      "source": [
        "##### <font color=\"green\">Challenge 2</font>"
      ]
    },
    {
      "cell_type": "code",
      "metadata": {
        "id": "j3A29Of8xnEG",
        "colab": {
          "base_uri": "https://localhost:8080/"
        },
        "outputId": "d90838c1-fe01-4600-daf7-9c42b9265f67"
      },
      "source": [
        "# Challenge 2\n",
        "# ---\n",
        "# Question: Print out the variable four you declared earlier without using the print function.\n",
        "# ---\n",
        "# YOUR CODE GOES BELOW\n",
        "#\n",
        "four"
      ],
      "execution_count": 10,
      "outputs": [
        {
          "output_type": "execute_result",
          "data": {
            "text/plain": [
              "['This list has number element', 4]"
            ]
          },
          "metadata": {},
          "execution_count": 10
        }
      ]
    },
    {
      "cell_type": "markdown",
      "metadata": {
        "id": "1KGAN1h-rhUT"
      },
      "source": [
        "## 3. Comments"
      ]
    },
    {
      "cell_type": "markdown",
      "metadata": {
        "id": "w4zEi3X-iSyT"
      },
      "source": [
        "**Comments** are simple notes used in our code to provide explanatory information\n",
        "about the code. Used to explain complex code."
      ]
    },
    {
      "cell_type": "markdown",
      "metadata": {
        "id": "6mfDGqy38176"
      },
      "source": [
        "#### <font color=\"blue\">Examples</font>"
      ]
    },
    {
      "cell_type": "markdown",
      "metadata": {
        "id": "BDggmS7ur3Wg"
      },
      "source": [
        "##### <font color=\"blue\">Example 1:</font> Single Line Comments"
      ]
    },
    {
      "cell_type": "markdown",
      "source": [
        "There are two lines in the code cell below. The first line is a comment because it contains a # character infront of the text. This line won't run whenever the code is executed. The 2nd line will run because it will be treated as code. Let's run this cell."
      ],
      "metadata": {
        "id": "wRuouPBthuaG"
      }
    },
    {
      "cell_type": "code",
      "metadata": {
        "id": "Chy3pmP9r9Ch"
      },
      "source": [
        "# Assiging 56 to score\n",
        "score = 56"
      ],
      "execution_count": null,
      "outputs": []
    },
    {
      "cell_type": "markdown",
      "metadata": {
        "id": "Am56-sCnr6vi"
      },
      "source": [
        "##### <font color=\"blue\">Example 2:</font> Multiple Line Comments - Method 1"
      ]
    },
    {
      "cell_type": "markdown",
      "source": [
        "In the code cell below, we create a multiline comment by encosing multiple lines using the delimiter characters: **```**"
      ],
      "metadata": {
        "id": "N01x35ixiISi"
      }
    },
    {
      "cell_type": "code",
      "metadata": {
        "id": "i4mALMPGr2Ad"
      },
      "source": [
        "'''\n",
        "This is a multiline comment.\n",
        "We use the delimiter characters to indicate that\n",
        "the following multi-line content are comments.\n",
        "'''\n",
        "score = 53"
      ],
      "execution_count": null,
      "outputs": []
    },
    {
      "cell_type": "markdown",
      "metadata": {
        "id": "5enr7YOCsGiO"
      },
      "source": [
        "##### <font color=\"blue\">Example 3:</font> Multiple Line Comments - Method 2"
      ]
    },
    {
      "cell_type": "markdown",
      "source": [
        "Alternatively, if we want to create multiple line comments, we can use multiple # charaters across the lines we want to treat as comments."
      ],
      "metadata": {
        "id": "SAvc0CB8ic8k"
      }
    },
    {
      "cell_type": "code",
      "metadata": {
        "id": "jLWLFxn5sVnD"
      },
      "source": [
        "# ---\n",
        "# This is a multi-line comment.\n",
        "# We can also use multiple hash characters to comment on\n",
        "# a block of content just as shown in this example.\n",
        "# We will be using this method of commenting to\n",
        "# provide more information about the exercises\n",
        "# and challenges within this course.\n",
        "# ---\n",
        "#\n",
        "score = 53"
      ],
      "execution_count": null,
      "outputs": []
    },
    {
      "cell_type": "markdown",
      "metadata": {
        "id": "czwZIoMP8yq2"
      },
      "source": [
        "#### <font color=\"green\">Challenges</font>"
      ]
    },
    {
      "cell_type": "markdown",
      "metadata": {
        "id": "UVhxQgFF8KI_"
      },
      "source": [
        "##### <font color=\"green\">Challenge 1:</font> Explain the following code below using a single line comment. The comment can be anything you want."
      ]
    },
    {
      "cell_type": "code",
      "metadata": {
        "id": "EXZ0jzkw8N3Z"
      },
      "source": [
        "#this code declares the variable home_planet\n",
        "home_planet = \"Earth\""
      ],
      "execution_count": null,
      "outputs": []
    },
    {
      "cell_type": "markdown",
      "metadata": {
        "id": "vRf4lpd38TE8"
      },
      "source": [
        "##### <font color=\"green\">Challenge 2:</font> Explain the following code using multiple line comments (using delimiters). The comments can be anything you want."
      ]
    },
    {
      "cell_type": "code",
      "metadata": {
        "id": "C4eWE7xS8U9m"
      },
      "source": [
        "'''the variable lap is declared as 400\n",
        "you have to use the correct syntax'''\n",
        "lap = 400"
      ],
      "execution_count": 11,
      "outputs": []
    },
    {
      "cell_type": "markdown",
      "metadata": {
        "id": "qOcy-X35HV_t"
      },
      "source": [
        "# 2. Arithmetic Operators"
      ]
    },
    {
      "cell_type": "markdown",
      "metadata": {
        "id": "GznVfEmDjC7A"
      },
      "source": [
        "**Arithmetic operators** are mathematical symbols that take two values and\n",
        "perform a calculation on them."
      ]
    },
    {
      "cell_type": "markdown",
      "metadata": {
        "id": "HX5OKWTeH3y7"
      },
      "source": [
        "#### <font color=\"blue\">Examples</font>"
      ]
    },
    {
      "cell_type": "markdown",
      "metadata": {
        "id": "V3vakOO6H9Vh"
      },
      "source": [
        "##### <font color=\"blue\">Example 1"
      ]
    },
    {
      "cell_type": "code",
      "metadata": {
        "id": "LzONiSsfHAmy",
        "colab": {
          "base_uri": "https://localhost:8080/"
        },
        "outputId": "34c806ab-603d-4ad2-947a-3e88531cf0e1"
      },
      "source": [
        "# Example 1\n",
        "# ---\n",
        "# We will now go through arithmetic operators. Here in this example,\n",
        "# we will perform an addition operation using the + operator.\n",
        "# If you want, you can experiment by using the subtraction operator\n",
        "# and then observing the change in the console.\n",
        "# ---\n",
        "#\n",
        "\n",
        "# Declare our variables\n",
        "a = 40\n",
        "b = 10\n",
        "\n",
        "# Addition\n",
        "c = a + b\n",
        "\n",
        "# Printing out our results\n",
        "print(c)"
      ],
      "execution_count": 12,
      "outputs": [
        {
          "output_type": "stream",
          "name": "stdout",
          "text": [
            "50\n"
          ]
        }
      ]
    },
    {
      "cell_type": "markdown",
      "metadata": {
        "id": "RMTv6MI1IIT_"
      },
      "source": [
        "##### <font color=\"blue\">Example 2"
      ]
    },
    {
      "cell_type": "code",
      "metadata": {
        "id": "JPCyGVKjICxP",
        "colab": {
          "base_uri": "https://localhost:8080/"
        },
        "outputId": "2efd626f-06bd-4c1d-f8de-50edc05c403c"
      },
      "source": [
        "# Example 2\n",
        "# ---\n",
        "# We can also perform a division operation as shown\n",
        "# ---\n",
        "#\n",
        "d = a / b\n",
        "\n",
        "# Printing out our result\n",
        "# ---\n",
        "#\n",
        "print(d)"
      ],
      "execution_count": 13,
      "outputs": [
        {
          "output_type": "stream",
          "name": "stdout",
          "text": [
            "4.0\n"
          ]
        }
      ]
    },
    {
      "cell_type": "markdown",
      "metadata": {
        "id": "HHygJvHMIPgh"
      },
      "source": [
        "##### <font color=\"blue\">Example 3"
      ]
    },
    {
      "cell_type": "code",
      "metadata": {
        "id": "FFONu-_VIO1k",
        "colab": {
          "base_uri": "https://localhost:8080/"
        },
        "outputId": "b921b0a0-2fa9-4587-d07e-a15b91c7aeec"
      },
      "source": [
        "# Example 3\n",
        "# ---\n",
        "# We can also use the increment operator to perform a = a + b. This is a common operator\n",
        "# while writing python programs.\n",
        "# Once you've ran this cell once, you can change the operator to the\n",
        "# decrement operator -= and see what happens.\n",
        "# ---\n",
        "#\n",
        "\n",
        "# Declaring our variables\n",
        "# ---\n",
        "#\n",
        "a = 40\n",
        "b = 10\n",
        "\n",
        "# Using the increment operator\n",
        "# ---\n",
        "#\n",
        "a += b             # This equates to a = a + b\n",
        "\n",
        "# Printing out our result\n",
        "# ---\n",
        "#\n",
        "print(a)"
      ],
      "execution_count": 14,
      "outputs": [
        {
          "output_type": "stream",
          "name": "stdout",
          "text": [
            "50\n"
          ]
        }
      ]
    },
    {
      "cell_type": "markdown",
      "metadata": {
        "id": "x_Sf1NXPpz0q"
      },
      "source": [
        "##### <font color=\"blue\">Example 4</font>"
      ]
    },
    {
      "cell_type": "code",
      "metadata": {
        "id": "R7vSWLfvpxVl",
        "colab": {
          "base_uri": "https://localhost:8080/"
        },
        "outputId": "c08114c6-704f-4f52-f2de-31f3b600769f"
      },
      "source": [
        "# Example 4\n",
        "# ---\n",
        "# We can also use the exponentiation operator ** to raise the number\n",
        "# to its left to the power of the number to its right. For example, 3**2 = 9.\n",
        "# ---\n",
        "# Another operator we can use is the modulus operator % which returns\n",
        "# the remainder of the division between number on the left by the on the right.\n",
        "# For Example, 5 % 2 = 1\n",
        "# ---\n",
        "#\n",
        "\n",
        "# Uncomment the following lines of code and see what happens\n",
        "# ---\n",
        "#\n",
        "print(15 % 7)\n",
        "print(5 ** 2)"
      ],
      "execution_count": 16,
      "outputs": [
        {
          "output_type": "stream",
          "name": "stdout",
          "text": [
            "1\n",
            "25\n"
          ]
        }
      ]
    },
    {
      "cell_type": "markdown",
      "metadata": {
        "id": "EqUWEUsNINyj"
      },
      "source": [
        "#### <font color=\"green\">Challenges</font>"
      ]
    },
    {
      "cell_type": "markdown",
      "metadata": {
        "id": "ExGMoK-pIb8p"
      },
      "source": [
        "##### <font color=\"green\">Challenge 1</font>"
      ]
    },
    {
      "cell_type": "code",
      "metadata": {
        "id": "DnfLaMI-IhDi",
        "colab": {
          "base_uri": "https://localhost:8080/"
        },
        "outputId": "e02ef587-d6e0-4cd7-f132-ffa63d2a8722"
      },
      "source": [
        "# Challenge 1\n",
        "# ---\n",
        "# Question: Subtract b from a using the above declared variables and print out the result\n",
        "# ---\n",
        "# YOUR CODE GOES BELOW\n",
        "#\n",
        "z = a-b\n",
        "print(z)"
      ],
      "execution_count": 18,
      "outputs": [
        {
          "output_type": "stream",
          "name": "stdout",
          "text": [
            "40\n"
          ]
        }
      ]
    },
    {
      "cell_type": "markdown",
      "metadata": {
        "id": "ZfjZLNgMIeYh"
      },
      "source": [
        "##### <font color=\"green\">Challenge 2</font>"
      ]
    },
    {
      "cell_type": "code",
      "metadata": {
        "id": "gUZE2lrcIhXi",
        "colab": {
          "base_uri": "https://localhost:8080/"
        },
        "outputId": "05d4a241-21e6-4aef-8d41-5903fc4ffec3"
      },
      "source": [
        "# Challenge 2\n",
        "# ---\n",
        "# Question: Multiply a and b variables and print out the result\n",
        "# ---\n",
        "# YOUR CODE GOES HERE\n",
        "x = a*b\n",
        "print(x)"
      ],
      "execution_count": 20,
      "outputs": [
        {
          "output_type": "stream",
          "name": "stdout",
          "text": [
            "500\n"
          ]
        }
      ]
    },
    {
      "cell_type": "markdown",
      "metadata": {
        "id": "dqhVm_8kN2tl"
      },
      "source": [
        "# 3. Data Types"
      ]
    },
    {
      "cell_type": "markdown",
      "metadata": {
        "id": "bRA3zsr8jnus"
      },
      "source": [
        "A **data type** is a classification that allows specifying which type of value\n",
        "a variable contains. It defines the operations that can be done on the data and how the data can be stored.\n",
        "\n",
        "- **Integer** value is a positive or negative whole number i.e. -1 or 4.\n",
        "- **String** value is a sequence of characters. Strings are contained in either single or double quotes i.e. \"Jane\" or 'Janet'.\n",
        "- **Float** value is a real number with floating-point representation i.e. 10.5 or 55.69\n"
      ]
    },
    {
      "cell_type": "markdown",
      "metadata": {
        "id": "VtTVm3cvN_lP"
      },
      "source": [
        "#### <font color=\"blue\">Examples</font>"
      ]
    },
    {
      "cell_type": "markdown",
      "metadata": {
        "id": "qIxhQwTHOIjm"
      },
      "source": [
        "##### <font color=\"blue\">Example 1"
      ]
    },
    {
      "cell_type": "code",
      "metadata": {
        "id": "n7APi3z1NtN0"
      },
      "source": [
        "# Example 1\n",
        "# ---\n",
        "# Let's see how we can determine a datatype using the type function.\n",
        "# In the examples below, we will create a variable, pass it to the type function\n",
        "# and then pass that to the print function so that we can see the outcome.\n",
        "# ---\n",
        "# NB: We will redeclare x / reassign the variable x with new values.\n",
        "\n",
        "# Integer data type\n",
        "# ---\n",
        "# Integer value is a positive or negative whole number.\n",
        "# ---\n",
        "#\n",
        "x = 50\n",
        "print(type(x))\n",
        "\n",
        "# String data type\n",
        "# ---\n",
        "# String value is a sequence of characters. Strings are contained in either single or double quotes.\n",
        "# ---\n",
        "#\n",
        "x = '30'\n",
        "print(type(x))\n",
        "\n",
        "# Float data type\n",
        "# ---\n",
        "# Float value is a real number with floating-point representation.\n",
        "# ---\n",
        "#\n",
        "x = 90.0\n",
        "print(type(x))"
      ],
      "execution_count": null,
      "outputs": []
    },
    {
      "cell_type": "markdown",
      "metadata": {
        "id": "JdKpybEFOJOM"
      },
      "source": [
        "##### <font color=\"blue\">Example 2"
      ]
    },
    {
      "cell_type": "code",
      "metadata": {
        "id": "2Al_wNeZOE7t"
      },
      "source": [
        "# Example 2\n",
        "# ---\n",
        "# To add a string and an integer, we need to convert the string into an integer\n",
        "# using the int function, otherwise we will get an error.\n",
        "# ---\n",
        "# Let's see how we can do that.\n",
        "# ---\n",
        "# Note that in this case, this will only work for an integer that is enclosed quotes.\n",
        "# A string like 'Four' won't work.\n",
        "# ---\n",
        "#\n",
        "x = 40\n",
        "y = '4'\n",
        "\n",
        "z = x + int(y)\n",
        "\n",
        "print(z)"
      ],
      "execution_count": null,
      "outputs": []
    },
    {
      "cell_type": "markdown",
      "metadata": {
        "id": "XJoETlR_OKHt"
      },
      "source": [
        "##### <font color=\"blue\">Example 3"
      ]
    },
    {
      "cell_type": "code",
      "metadata": {
        "id": "CmPAy-efOEx-"
      },
      "source": [
        "# Example 3\n",
        "# ---\n",
        "# If we add an integer with a float, the outcome will always be a float.\n",
        "# ---\n",
        "#\n",
        "x = 20\n",
        "print(type(x))\n",
        "\n",
        "x += 5.0           # x = x + 5.0\n",
        "print(x)\n",
        "\n",
        "print(type(x))"
      ],
      "execution_count": null,
      "outputs": []
    },
    {
      "cell_type": "markdown",
      "metadata": {
        "id": "8w3U0HVEOccy"
      },
      "source": [
        "##### <font color=\"blue\">Example 4"
      ]
    },
    {
      "cell_type": "code",
      "metadata": {
        "id": "o_qQW55lOeY5"
      },
      "source": [
        "# Example 4\n",
        "# ---\n",
        "# If we divide integers the outcome will be a float\n",
        "# ---\n",
        "#\n",
        "a = 40\n",
        "b = 5\n",
        "\n",
        "print(a/b)\n",
        "print(b/a)"
      ],
      "execution_count": null,
      "outputs": []
    },
    {
      "cell_type": "markdown",
      "metadata": {
        "id": "hDZ9eDtmOgLi"
      },
      "source": [
        "##### <font color=\"blue\">Example 5"
      ]
    },
    {
      "cell_type": "code",
      "metadata": {
        "id": "RqtHFRB1OkU-"
      },
      "source": [
        "# Example 5\n",
        "# ---\n",
        "# We can also use the float function to convert an integer/string\n",
        "# into a float as shown.\n",
        "# ---\n",
        "#\n",
        "print(b/float('5'))"
      ],
      "execution_count": null,
      "outputs": []
    },
    {
      "cell_type": "markdown",
      "metadata": {
        "id": "SxIaU06sOuYQ"
      },
      "source": [
        "##### <font color=\"blue\">Example 6"
      ]
    },
    {
      "cell_type": "code",
      "metadata": {
        "id": "Ho7QuNWqOvNs"
      },
      "source": [
        "# Examaple 6\n",
        "# ---\n",
        "# If we want to combine two strings, we can use the + operator as shown.\n",
        "# ---\n",
        "# NB: Combining two strings in python is referred to as concatenation.\n",
        "# ---\n",
        "#\n",
        "a = 'John '\n",
        "b = 'Doe'\n",
        "\n",
        "print(a + b)"
      ],
      "execution_count": null,
      "outputs": []
    },
    {
      "cell_type": "markdown",
      "metadata": {
        "id": "GuR57OHgOBnM"
      },
      "source": [
        "#### <font color=\"green\">Challenges</font>"
      ]
    },
    {
      "cell_type": "markdown",
      "metadata": {
        "id": "eaq4UrFLONmb"
      },
      "source": [
        "##### <font color=\"green\">Challenge 1</font>"
      ]
    },
    {
      "cell_type": "code",
      "metadata": {
        "id": "sXCvJSB1OD8w"
      },
      "source": [
        "# Challenge 1\n",
        "# ---\n",
        "# Question: Print out any variable that comes to mind with the string data type.\n",
        "# ---\n",
        "# YOUR CODE GOES BELOW\n",
        "#"
      ],
      "execution_count": null,
      "outputs": []
    },
    {
      "cell_type": "markdown",
      "metadata": {
        "id": "bSurXHq_OOjc"
      },
      "source": [
        "##### <font color=\"green\">Challenge 2</font>"
      ]
    },
    {
      "cell_type": "code",
      "metadata": {
        "id": "fQjDSfP1OEPH"
      },
      "source": [
        "# Challenge 2\n",
        "# ---\n",
        "# Question: Run and correct the following code.\n",
        "# ---\n",
        "# Hint: Read the error generated and modify the code accordingly\n",
        "#\n",
        "w = 10 + '60'\n",
        "\n",
        "print(w)"
      ],
      "execution_count": null,
      "outputs": []
    },
    {
      "cell_type": "markdown",
      "metadata": {
        "id": "hnyRRASVOPq4"
      },
      "source": [
        "##### <font color=\"green\">Challenge 3</font>"
      ]
    },
    {
      "cell_type": "code",
      "metadata": {
        "id": "7qUmDv5NOFl0"
      },
      "source": [
        "# Challenge 3\n",
        "# ---\n",
        "# Question: Perform integer division of 199 and 3 with the result being an integer.\n",
        "# Print out the result.\n",
        "# ---\n",
        "# YOUR CODE GOES BELOW\n",
        "#"
      ],
      "execution_count": null,
      "outputs": []
    },
    {
      "cell_type": "markdown",
      "metadata": {
        "id": "okwTjEZ_PCiN"
      },
      "source": [
        "##### <font color=\"green\">Challenge 4</font>"
      ]
    },
    {
      "cell_type": "code",
      "metadata": {
        "id": "YThUHgEzPEfP"
      },
      "source": [
        "# Challenge 4\n",
        "# ---\n",
        "# Question: Print out the data type of the given variable x.\n",
        "# ---\n",
        "# YOUR CODE GOES BELOW\n",
        "#"
      ],
      "execution_count": null,
      "outputs": []
    },
    {
      "cell_type": "markdown",
      "metadata": {
        "id": "80kHsk0gQiX5"
      },
      "source": [
        "# 4. Lists"
      ]
    },
    {
      "cell_type": "markdown",
      "metadata": {
        "id": "5enNElPNkEqk"
      },
      "source": [
        "A **list** is a compound data type that allows for the storage of items of different data types. We use lists to store a set of related data."
      ]
    },
    {
      "cell_type": "markdown",
      "metadata": {
        "id": "r6CjXb92QsKs"
      },
      "source": [
        "#### <font color=\"blue\">Examples</font>"
      ]
    },
    {
      "cell_type": "markdown",
      "metadata": {
        "id": "_We_Aif3Q_n5"
      },
      "source": [
        "##### <font color=\"blue\">Example 1"
      ]
    },
    {
      "cell_type": "code",
      "metadata": {
        "id": "2JcpAVbvQd1w"
      },
      "source": [
        "# Example 1\n",
        "# ---\n",
        "# Question: Create a list named fish and store it with values of different types of fish\n",
        "# ---\n",
        "#\n",
        "\n",
        "# Defining our list\n",
        "fish = [\"salmon\", \"star fish\", \"tilapia\", \"sword fish\"]\n",
        "\n",
        "# Printing our result\n",
        "fish"
      ],
      "execution_count": null,
      "outputs": []
    },
    {
      "cell_type": "markdown",
      "metadata": {
        "id": "sVrIv1ucRAtY"
      },
      "source": [
        "##### <font color=\"blue\">Example 2"
      ]
    },
    {
      "cell_type": "code",
      "metadata": {
        "id": "aI4qEeumRCRr"
      },
      "source": [
        "# Example 2\n",
        "# ---\n",
        "# Question: Add elements to a list\n",
        "# ---\n",
        "#\n",
        "\n",
        "# Adding the fish \"gold fish\" to our fish list using the append method.\n",
        "# ---\n",
        "#\n",
        "fish.append(\"gold fish\")\n",
        "\n",
        "# Printing our result\n",
        "# ---\n",
        "#\n",
        "print(fish)"
      ],
      "execution_count": null,
      "outputs": []
    },
    {
      "cell_type": "markdown",
      "metadata": {
        "id": "xaLN8jeYRDll"
      },
      "source": [
        "##### <font color=\"blue\">Example 3"
      ]
    },
    {
      "cell_type": "code",
      "metadata": {
        "id": "eqHEZSfYRE_X"
      },
      "source": [
        "# Example 3\n",
        "# ---\n",
        "# Question: Updating an element in a list.\n",
        "# ---\n",
        "# We use the list name and the position.\n",
        "# ---\n",
        "#\n",
        "fish[2] = \"nile tipalia\"\n",
        "\n",
        "# Printing our result\n",
        "# ---\n",
        "#\n",
        "print(fish)"
      ],
      "execution_count": null,
      "outputs": []
    },
    {
      "cell_type": "markdown",
      "metadata": {
        "id": "dGKEWiBwTVFM"
      },
      "source": [
        "##### <font color=\"blue\">Example 4"
      ]
    },
    {
      "cell_type": "code",
      "metadata": {
        "id": "JTi3KkzITYk8"
      },
      "source": [
        "# Example 4\n",
        "# ---\n",
        "# Question: Remove an element from a list using the remove method\n",
        "# ---\n",
        "#\n",
        "fish.remove(\"gold fish\")\n",
        "\n",
        "# Printing our result\n",
        "# ---\n",
        "#\n",
        "print(fish)"
      ],
      "execution_count": null,
      "outputs": []
    },
    {
      "cell_type": "markdown",
      "metadata": {
        "id": "WnXWTn9WTaJs"
      },
      "source": [
        "##### <font color=\"blue\">Example 5"
      ]
    },
    {
      "cell_type": "code",
      "metadata": {
        "id": "3o416dxITbNq"
      },
      "source": [
        "# Example 5\n",
        "# ---\n",
        "# Question: Slice the restaurant list to fetch specific elements in a list\n",
        "# ---\n",
        "#\n",
        "\n",
        "# Getting the first element in the list as shown\n",
        "# ---\n",
        "#\n",
        "print(fish[0])\n",
        "\n",
        "# Getting the first two elements in the list as shown\n",
        "# ---\n",
        "#\n",
        "print(fish[0:2])\n",
        "\n",
        "# Getting the last one element in the list as shown\n",
        "# ---\n",
        "#\n",
        "print(fish[-1:])\n",
        "\n",
        "# Getting items from 2nd position to the end in the list as shown\n",
        "# ---\n",
        "#\n",
        "print(fish[2:])"
      ],
      "execution_count": null,
      "outputs": []
    },
    {
      "cell_type": "markdown",
      "metadata": {
        "id": "96-FMInjQs5S"
      },
      "source": [
        "#### <font color=\"green\">Challenges</font>"
      ]
    },
    {
      "cell_type": "markdown",
      "metadata": {
        "id": "z9M2LwKAQvN_"
      },
      "source": [
        "##### <font color=\"green\">Challenge 1</font>"
      ]
    },
    {
      "cell_type": "code",
      "metadata": {
        "id": "gkiZKIQfQuzt"
      },
      "source": [
        "# Challenge 1\n",
        "# ---\n",
        "# Question: Create a list containing any 5 fruits of your choice.\n",
        "# ---\n",
        "# YOUR CODE GOES BELOW\n",
        "#"
      ],
      "execution_count": null,
      "outputs": []
    },
    {
      "cell_type": "markdown",
      "metadata": {
        "id": "fnRxw0qjQ1aZ"
      },
      "source": [
        "##### <font color=\"green\">Challenge 2</font>"
      ]
    },
    {
      "cell_type": "code",
      "metadata": {
        "id": "dCUhw0npQ4lD"
      },
      "source": [
        "# Challenge 2\n",
        "# ---\n",
        "# Question: Add the fruit guava to your list.\n",
        "# ---\n",
        "# YOUR CODE GOES BELOW\n",
        "#"
      ],
      "execution_count": null,
      "outputs": []
    },
    {
      "cell_type": "markdown",
      "metadata": {
        "id": "HA99lKmhQ68W"
      },
      "source": [
        "##### <font color=\"green\">Challenge 3</font>"
      ]
    },
    {
      "cell_type": "code",
      "metadata": {
        "id": "Ci5HL0QDQ8o-"
      },
      "source": [
        "# Challenge 3\n",
        "# ---\n",
        "# Question: Update the fruit in the third and fourth position in the list\n",
        "# with \"red orange\", \"yellow orange\"\n",
        "# ---\n",
        "# YOUR CODE GOES BELOW\n",
        "#"
      ],
      "execution_count": null,
      "outputs": []
    },
    {
      "cell_type": "markdown",
      "metadata": {
        "id": "z7mA-mghTmOc"
      },
      "source": [
        "##### <font color=\"green\">Challenge 4</font>"
      ]
    },
    {
      "cell_type": "code",
      "metadata": {
        "id": "d8oGQBGUTr3i"
      },
      "source": [
        "# Challenge 4\n",
        "# ---\n",
        "# Question: Print out the last two fruits in your list.\n",
        "# ---\n",
        "# YOUR CODE GOES BELOW\n",
        "#"
      ],
      "execution_count": null,
      "outputs": []
    },
    {
      "cell_type": "markdown",
      "metadata": {
        "id": "qcpLR3a_XPLd"
      },
      "source": [
        "# 5. Conditional (If) Statements"
      ]
    },
    {
      "cell_type": "markdown",
      "metadata": {
        "id": "zw4tIKRGkNci"
      },
      "source": [
        "**Conditional if** statements are used for decision making. They will run code if only when if the statement is true. In general, we use conditional (if) statements to execute a certain part of code if a condition is satisfied."
      ]
    },
    {
      "cell_type": "markdown",
      "metadata": {
        "id": "EnaCUxpRXT0J"
      },
      "source": [
        "#### <font color=\"blue\">Examples</font>"
      ]
    },
    {
      "cell_type": "markdown",
      "metadata": {
        "id": "ZX5LhYDuXV2O"
      },
      "source": [
        "##### <font color=\"blue\">Example 1"
      ]
    },
    {
      "cell_type": "code",
      "metadata": {
        "id": "f9y3Gs_0XF9d"
      },
      "source": [
        "# Example 1\n",
        "# ---\n",
        "# Question: How do we use the If keyword?\n",
        "# ---\n",
        "# In python, we use if statements to determine whether a certain condition is true\n",
        "# and then execute some code if it is true.\n",
        "# ---\n",
        "# To create an if statement, we use the if keyword, followed by an\n",
        "# expression/condition i.e. q < p and then a colon :\n",
        "# The code to be executed when the expression is true is the contained in the next line\n",
        "# and identified using a indent i.e. print(\"q is less than p\")\n",
        "# ---\n",
        "#\n",
        "\n",
        "# We first declare our variables\n",
        "p = 500\n",
        "q = 100\n",
        "\n",
        "# Here's an example of an if statement\n",
        "if q < p:\n",
        "  print(\"q is less than p\")"
      ],
      "execution_count": null,
      "outputs": []
    },
    {
      "cell_type": "markdown",
      "metadata": {
        "id": "7vliBrC5Xk65"
      },
      "source": [
        "##### <font color=\"blue\">Example 2"
      ]
    },
    {
      "cell_type": "code",
      "metadata": {
        "id": "HChmx56TXl3j"
      },
      "source": [
        "# Example 2\n",
        "# ---\n",
        "# Question: How can we use the Elif keyword? and also perform nesting/contain if\n",
        "# statements inside if statements?\n",
        "# ---\n",
        "# If we want to evaluate multiple expressions we can use elif keyword as shown.\n",
        "# Here, we add the expression r == s to evaluate whether r and s are equal.\n",
        "# ---\n",
        "# We can also add if statements inside other if statements as shown below.\n",
        "# Adding such is referred to as nesting.\n",
        "# ---\n",
        "#\n",
        "\n",
        "r = 100\n",
        "s = 100\n",
        "\n",
        "p = 500\n",
        "q = 100\n",
        "\n",
        "if s < r:\n",
        "  if q < p:\n",
        "    print(\"y is less than x\")\n",
        "elif r == s:\n",
        "  print(\"r and s are equal\")"
      ],
      "execution_count": null,
      "outputs": []
    },
    {
      "cell_type": "markdown",
      "metadata": {
        "id": "0xG8q15EXnW_"
      },
      "source": [
        "##### <font color=\"blue\">Example 3"
      ]
    },
    {
      "cell_type": "code",
      "metadata": {
        "id": "jxac2rfpXpws"
      },
      "source": [
        "# Example 3\n",
        "# ---\n",
        "# Question: How can we use the Else keyword?\n",
        "# ---\n",
        "# The else keyword is used to execute some code if all the\n",
        "# defined expressions evaluate to false.\n",
        "# ---\n",
        "#\n",
        "\n",
        "# Declaring our variables\n",
        "a = 150\n",
        "b = 50\n",
        "\n",
        "# Then using our else keyword\n",
        "if b > a:\n",
        "  print(\"b is greater than a\")\n",
        "elif a == b:\n",
        "  print(\"a and b are equal\")\n",
        "else:\n",
        "  print(\"a is greater than b\")"
      ],
      "execution_count": null,
      "outputs": []
    },
    {
      "cell_type": "markdown",
      "metadata": {
        "id": "2gYk4uIZYFKf"
      },
      "source": [
        "##### <font color=\"blue\">Example 4"
      ]
    },
    {
      "cell_type": "code",
      "metadata": {
        "id": "cswVDkN0YGQV"
      },
      "source": [
        "# Example 4\n",
        "# ---\n",
        "# Question: How can we use the And keyword?\n",
        "# ---\n",
        "# If we want to execute some code only if both expressions turns out to be true,\n",
        "# we use the \"and\" keyword.\n",
        "# ---\n",
        "\n",
        "# Declaring our variables\n",
        "name = \"Mary\"\n",
        "age  = 30\n",
        "\n",
        "# Using the And keyword\n",
        "if name == \"Mary\" and age == 30:\n",
        "  print(\"My name is Mary, and I am 30 years old.\")"
      ],
      "execution_count": null,
      "outputs": []
    },
    {
      "cell_type": "markdown",
      "metadata": {
        "id": "7vPUGzblYGj1"
      },
      "source": [
        "##### <font color=\"blue\">Example 5"
      ]
    },
    {
      "cell_type": "code",
      "metadata": {
        "id": "ivMrjohRYHe6"
      },
      "source": [
        "# Example 5\n",
        "# ---\n",
        "# How can we use the Or keyword?\n",
        "# ---\n",
        "# If we want to execute some code only if atleast one expression turns out to be\n",
        "# true, then we can use the \"or\" keyword.\n",
        "# ---\n",
        "#\n",
        "\n",
        "a = 100\n",
        "b = 101\n",
        "c = 99\n",
        "\n",
        "if a > b or a > c:\n",
        "  print(\"At least one of the conditions is True\")"
      ],
      "execution_count": null,
      "outputs": []
    },
    {
      "cell_type": "markdown",
      "metadata": {
        "id": "IhBdAGNeXa9N"
      },
      "source": [
        "#### <font color=\"green\">Challenges</font>"
      ]
    },
    {
      "cell_type": "markdown",
      "metadata": {
        "id": "kBHUUpINXev4"
      },
      "source": [
        "##### <font color=\"green\">Challenge 1</font>"
      ]
    },
    {
      "cell_type": "code",
      "metadata": {
        "id": "fae-fxEZXfix"
      },
      "source": [
        "# Challenge 1\n",
        "# ---\n",
        "# Question: Declare two variables t and s then, find out whether t is less than s.\n",
        "# You can use the values of t and s to be 7 and 8 respectively.\n",
        "# ---\n",
        "# YOUR CODE GOES BELOW\n",
        "#"
      ],
      "execution_count": null,
      "outputs": []
    },
    {
      "cell_type": "markdown",
      "metadata": {
        "id": "c10_umZGgZFg"
      },
      "source": [
        "##### <font color=\"green\">Challenge 2</font>"
      ]
    },
    {
      "cell_type": "code",
      "metadata": {
        "id": "fATxaR0QgXfd"
      },
      "source": [
        "# Challenge 2\n",
        "# ---\n",
        "# Question: Create an if statement that determines whether a number given\n",
        "# by a user is greater than 10 and less than 30.\n",
        "# The number given can be in the form of a variable.\n",
        "# ---\n",
        "# Hint: Use the and keyword\n",
        "# ---\n",
        "# YOUR CODE GOES BELOW\n",
        "#"
      ],
      "execution_count": null,
      "outputs": []
    },
    {
      "cell_type": "markdown",
      "metadata": {
        "id": "hdEWP1SNnFHp"
      },
      "source": [
        "# 6. Dictionaries"
      ]
    },
    {
      "cell_type": "markdown",
      "metadata": {
        "id": "KrWzTK43kc4r"
      },
      "source": [
        "A **dictionary** is a data type that is used to store key-value pairs. It\n",
        "enables us to retrieve, add, remove, modify values using keys. Use case: When training a machine learning model we can store features and labels in dictionaries."
      ]
    },
    {
      "cell_type": "markdown",
      "metadata": {
        "id": "_TGroESwnRos"
      },
      "source": [
        "#### <font color=\"blue\">Examples</font>"
      ]
    },
    {
      "cell_type": "markdown",
      "metadata": {
        "id": "TbJ6OFKqnUTy"
      },
      "source": [
        "##### <font color=\"blue\">Example 1"
      ]
    },
    {
      "cell_type": "code",
      "metadata": {
        "id": "sIEWsndxnBIx"
      },
      "source": [
        "# Example 1\n",
        "# ---\n",
        "# Let's see how we can create a dictionary named vehicle and store 3 keys with their respective values.\n",
        "# ---\n",
        "#\n",
        "vehicle =\t{\n",
        "  'brand': 'Toyota',\n",
        "  'model': 'Subaru',\n",
        "  'year': 2019\n",
        "}\n",
        "print(vehicle)"
      ],
      "execution_count": null,
      "outputs": []
    },
    {
      "cell_type": "markdown",
      "metadata": {
        "id": "HxuW_VVCnVgw"
      },
      "source": [
        "##### <font color=\"blue\">Example 2"
      ]
    },
    {
      "cell_type": "code",
      "metadata": {
        "id": "1Vmghb0onWoR"
      },
      "source": [
        "# Example 2\n",
        "# ---\n",
        "# Adding a key value pair to a dictionary\n",
        "# ---\n",
        "#\n",
        "\n",
        "# Adding an element to your dictionary\n",
        "vehicle['engine'] = '1800cc'\n",
        "\n",
        "# Printing out our updated dictionary\n",
        "print(vehicle)"
      ],
      "execution_count": null,
      "outputs": []
    },
    {
      "cell_type": "markdown",
      "metadata": {
        "id": "8LarnuTTnalz"
      },
      "source": [
        "##### <font color=\"blue\">Example 3"
      ]
    },
    {
      "cell_type": "code",
      "metadata": {
        "id": "iAQKOoTJnd-D"
      },
      "source": [
        "# Example 3\n",
        "# ---\n",
        "# Updating a key value pair in a dictionary\n",
        "# ---\n",
        "#\n",
        "\n",
        "# Updating an element to our dictionary\n",
        "vehicle['engine'] = '2400cc'\n",
        "\n",
        "# Printing out our updated dictionary\n",
        "print(vehicle)"
      ],
      "execution_count": null,
      "outputs": []
    },
    {
      "cell_type": "markdown",
      "metadata": {
        "id": "VSxz3OK9nb4P"
      },
      "source": [
        "##### <font color=\"blue\">Example 4"
      ]
    },
    {
      "cell_type": "code",
      "metadata": {
        "id": "9JidwoWunedW"
      },
      "source": [
        "# Example 4\n",
        "# ---\n",
        "# Accessing an element from a dictionary\n",
        "# ---\n",
        "#\n",
        "\n",
        "# Printing our vehicle's model\n",
        "#\n",
        "print(vehicle[\"model\"])\n",
        "\n",
        "# or we could use\n",
        "print(vehicle.get(\"model\"))"
      ],
      "execution_count": null,
      "outputs": []
    },
    {
      "cell_type": "markdown",
      "metadata": {
        "id": "_xf8ei3mnc3-"
      },
      "source": [
        "##### <font color=\"blue\">Example 5"
      ]
    },
    {
      "cell_type": "code",
      "metadata": {
        "id": "kBMhLSUvnfXb"
      },
      "source": [
        "# Example 5\n",
        "# ---\n",
        "# Removing an element from a dictionary\n",
        "# ---\n",
        "#\n",
        "\n",
        "# Removing model from the dictionary\n",
        "vehicle_without_model = vehicle.pop(\"model\")\n",
        "vehicle"
      ],
      "execution_count": null,
      "outputs": []
    },
    {
      "cell_type": "markdown",
      "metadata": {
        "id": "C4tY9xM-n6jP"
      },
      "source": [
        "##### <font color=\"blue\">Example 6"
      ]
    },
    {
      "cell_type": "code",
      "metadata": {
        "id": "l10tZKkqn791"
      },
      "source": [
        "# Example 6\n",
        "# ---\n",
        "# Question: Checking if an element exists in a dictionary\n",
        "# ---\n",
        "#\n",
        "\n",
        "if \"brand\" in vehicle:\n",
        "  print(\"Yes, the keyword exists in the dictionary\")\n",
        "else:\n",
        "  print('No, the keyword does not exist in the dictionary')\n"
      ],
      "execution_count": null,
      "outputs": []
    },
    {
      "cell_type": "markdown",
      "metadata": {
        "id": "qxG8RHFnniJT"
      },
      "source": [
        "#### <font color=\"green\">Challenges</font>"
      ]
    },
    {
      "cell_type": "markdown",
      "metadata": {
        "id": "dQlkT13Gnjid"
      },
      "source": [
        "##### <font color=\"green\">Challenge 1</font>"
      ]
    },
    {
      "cell_type": "code",
      "metadata": {
        "id": "omUwx9wnnlcl"
      },
      "source": [
        "# Challenge 1\n",
        "# ---\n",
        "# Question: Create a dictionary named accountants then populate it with\n",
        "# any values for the keys; name, certification, company\n",
        "# ---\n",
        "# YOUR CODE GOES BELOW\n",
        "#"
      ],
      "execution_count": null,
      "outputs": []
    },
    {
      "cell_type": "markdown",
      "metadata": {
        "id": "6Pdl8p-QnmN1"
      },
      "source": [
        "##### <font color=\"green\">Challenge 2</font>"
      ]
    },
    {
      "cell_type": "code",
      "metadata": {
        "id": "szya8o5cnnDr"
      },
      "source": [
        "# Challenge 2\n",
        "# ---\n",
        "# Question: Add the element institution with value 'Pearson' to the\n",
        "# accountants dictionary\n",
        "# ---\n",
        "# YOUR CODE GOES BELOW\n",
        "#"
      ],
      "execution_count": null,
      "outputs": []
    },
    {
      "cell_type": "markdown",
      "metadata": {
        "id": "93yfMyQWnovw"
      },
      "source": [
        "##### <font color=\"green\">Challenge 3</font>"
      ]
    },
    {
      "cell_type": "code",
      "metadata": {
        "id": "nRK7lwI-npy6"
      },
      "source": [
        "# Challenge 3\n",
        "# ---\n",
        "# Question: Update the element name with value Jane in the accountants dictionary\n",
        "# ---\n",
        "# YOUR CODE GOES BELOW\n",
        "#"
      ],
      "execution_count": null,
      "outputs": []
    },
    {
      "cell_type": "markdown",
      "metadata": {
        "id": "6T7Z10zUnquf"
      },
      "source": [
        "##### <font color=\"green\">Challenge 4</font>"
      ]
    },
    {
      "cell_type": "code",
      "metadata": {
        "id": "QijrUFV6nruq"
      },
      "source": [
        "# Challenge 4\n",
        "# ---\n",
        "# Question: Access the value of the certification key in the dictionary above\n",
        "# ---\n",
        "# YOUR CODE GOES BELOW\n",
        "#"
      ],
      "execution_count": null,
      "outputs": []
    },
    {
      "cell_type": "markdown",
      "metadata": {
        "id": "l4aSf1SQnsIc"
      },
      "source": [
        "##### <font color=\"green\">Challenge 5</font>"
      ]
    },
    {
      "cell_type": "code",
      "metadata": {
        "id": "HE2tBOlpntTl"
      },
      "source": [
        "# Challenge 5\n",
        "# ---\n",
        "# Question: Check whether country is a key in the accountants dictionary\n",
        "# ---\n",
        "# YOUR CODE GOES BELOW\n",
        "#"
      ],
      "execution_count": null,
      "outputs": []
    },
    {
      "cell_type": "markdown",
      "metadata": {
        "id": "wW6zZPzHpPkw"
      },
      "source": [
        "# 7. For Loops"
      ]
    },
    {
      "cell_type": "markdown",
      "metadata": {
        "id": "IECi4wbVkjWe"
      },
      "source": [
        "A **for loop** is a control flow statement that allows code to be executed repeatedly. The are used to iterate over a sequence i.e. list, dictionary, string,\n",
        "etc. They can also be used to repeat a specific block of code a known number of times."
      ]
    },
    {
      "cell_type": "markdown",
      "metadata": {
        "id": "Tj7-43EzpXKP"
      },
      "source": [
        "#### <font color=\"blue\">Examples</font>"
      ]
    },
    {
      "cell_type": "markdown",
      "metadata": {
        "id": "9CbPFikcpb65"
      },
      "source": [
        "##### <font color=\"blue\">Example 1"
      ]
    },
    {
      "cell_type": "code",
      "metadata": {
        "id": "A6ghbClnpKgH"
      },
      "source": [
        "# Example 1\n",
        "# ---\n",
        "# Question: Loop/iterate through the string \"Karura Karura\"\n",
        "# ---\n",
        "# We can use a for loop to iterate through a collection i.e. a string, a list, a dictionary\n",
        "# and later perform an operation on the individual elements.\n",
        "# ---\n",
        "# To use a for loop, we use the \"for\" keyword, then define a variable that will hold current\n",
        "# value of a collection, then define the collection after the \"in\" keyword. We then finish a colon.\n",
        "# Inside the for loop, where we can the body, we can access the current element of our collection using the\n",
        "# variable we defined.\n",
        "# ---\n",
        "# NB: We use for loops whenever we want to iterate through all the items in the collection.\n",
        "# ---\n",
        "#\n",
        "\n",
        "a = \"Karuna Karuna\"\n",
        "for y in a:\n",
        "  print(y)"
      ],
      "execution_count": null,
      "outputs": []
    },
    {
      "cell_type": "markdown",
      "metadata": {
        "id": "8TToTfDxpcsC"
      },
      "source": [
        "##### <font color=\"blue\">Example 2"
      ]
    },
    {
      "cell_type": "code",
      "metadata": {
        "id": "KQjf-iXjpdoW"
      },
      "source": [
        "# Example 2\n",
        "# ---\n",
        "# We can also use a break statement to stop the loop in its iteration as shown\n",
        "# ---\n",
        "#\n",
        "\n",
        "# Let's print out the restaurants list that we had created earlier on\n",
        "restaurants = [\"cj's\", \"Java\", \"Nyama Mama\", \"Italian\", \"Viridian\", \"Khosa\"]\n",
        "\n",
        "# Looping and using a break statement\n",
        "for x in restaurants:\n",
        "  print(x)\n",
        "  if x == \"Viridian\":\n",
        "    break"
      ],
      "execution_count": null,
      "outputs": []
    },
    {
      "cell_type": "markdown",
      "metadata": {
        "id": "O0n2jmlupeUe"
      },
      "source": [
        "##### <font color=\"blue\">Example 3"
      ]
    },
    {
      "cell_type": "code",
      "metadata": {
        "id": "cwraj51ZpfqH"
      },
      "source": [
        "# Example 3\n",
        "# ---\n",
        "# We can also use a continue statement to stop the current iteration of the loop\n",
        "# and continue to the next interation without executing the rest of the body.\n",
        "# ---\n",
        "#\n",
        "\n",
        "# Creating a list\n",
        "mobile_phone = [\"iphone 4\", \"iphone 5\", \"iphone 6\", \"iphone 7\", \"iphone 8\", \"iphone x\", \"iphone xs\"]\n",
        "\n",
        "# Using a for loop\n",
        "for x in mobile_phone:\n",
        "    if x == 'iphone 6' or x == 'iphone 8':\n",
        "         continue\n",
        "    print('Checked Phone :', x)"
      ],
      "execution_count": null,
      "outputs": []
    },
    {
      "cell_type": "markdown",
      "metadata": {
        "id": "uBJfTBcDpooj"
      },
      "source": [
        "#### <font color=\"green\">Challenges</font>"
      ]
    },
    {
      "cell_type": "markdown",
      "metadata": {
        "id": "xVpVBXPkprnS"
      },
      "source": [
        "##### <font color=\"green\">Challenge 1</font>"
      ]
    },
    {
      "cell_type": "code",
      "metadata": {
        "id": "HFGk4EqIppVV"
      },
      "source": [
        "# Challenge 1\n",
        "# ---\n",
        "# Question: Iterate through the string \"I am a citizen of the World\"\n",
        "# ---\n",
        "# YOUR CODE GOES BELOW\n",
        "#"
      ],
      "execution_count": null,
      "outputs": []
    },
    {
      "cell_type": "markdown",
      "metadata": {
        "id": "05xi5W5kpsYM"
      },
      "source": [
        "##### <font color=\"green\">Challenge 2</font>"
      ]
    },
    {
      "cell_type": "code",
      "metadata": {
        "id": "E3VR4EOWptKc"
      },
      "source": [
        "# Challenge 2\n",
        "# Make changes to the code below to omit the Yohana and Mariga\n",
        "# while displaying the items in the footballers list.\n",
        "#\n",
        "\n",
        "# Creating our list\n",
        "# ---\n",
        "#\n",
        "footballers = [\"Oliech\", \"Kahata\", \"Yohana\", \"Matasi\", \"Mariga\", \"Wanyama\"]\n",
        "\n",
        "# Iterating over our list\n",
        "# ---\n",
        "#\n"
      ],
      "execution_count": null,
      "outputs": []
    },
    {
      "cell_type": "markdown",
      "metadata": {
        "id": "51qEP6JSPg9C"
      },
      "source": [
        "# 8. Sets"
      ]
    },
    {
      "cell_type": "markdown",
      "metadata": {
        "id": "et06pC-HPg9C"
      },
      "source": [
        "A **set** is an unordered collection of elements with no duplicate elements. Set elements can be of any data type but cannot have mutable elements like lists, sets, or dictionaries."
      ]
    },
    {
      "cell_type": "markdown",
      "metadata": {
        "id": "6FPcCNvHPg9C"
      },
      "source": [
        "#### <font color=\"blue\">Examples</font>"
      ]
    },
    {
      "cell_type": "markdown",
      "metadata": {
        "id": "UrzlX2PAPg9D"
      },
      "source": [
        "##### <font color=\"blue\">Example 1"
      ]
    },
    {
      "cell_type": "code",
      "metadata": {
        "id": "mIjff1Y5Pg9D"
      },
      "source": [
        "# Method 1: Creating a set\n",
        "# ---\n",
        "#\n",
        "colors = {\"red\", \"green\", \"white\", \"orange\"}\n",
        "\n",
        "# Print the set\n",
        "# ---\n",
        "#\n",
        "print(colors)"
      ],
      "execution_count": null,
      "outputs": []
    },
    {
      "cell_type": "code",
      "metadata": {
        "id": "tFkRe5HCQaWP"
      },
      "source": [
        "# Method 2: Use the `set()` function\n",
        "# ---\n",
        "#\n",
        "colors = set((\"red\", \"green\", \"white\", \"orange\"))\n",
        "\n",
        "# print the set\n",
        "# ---\n",
        "#\n",
        "print(colors)"
      ],
      "execution_count": null,
      "outputs": []
    },
    {
      "cell_type": "code",
      "metadata": {
        "id": "vQmGHjAWRGYs"
      },
      "source": [
        "# creating a set with heterogenous elements\n",
        "# ---\n",
        "#\n",
        "colors = {\"red\", 2, True, 40, \"white\"}\n",
        "\n",
        "# print the set\n",
        "# ---\n",
        "#\n",
        "print(colors)"
      ],
      "execution_count": null,
      "outputs": []
    },
    {
      "cell_type": "markdown",
      "metadata": {
        "id": "zZMhtcyKPg9D"
      },
      "source": [
        "##### <font color=\"blue\">Example 2"
      ]
    },
    {
      "cell_type": "code",
      "metadata": {
        "id": "LWBnQY7hPg9E"
      },
      "source": [
        "# Determine the `type()`\n",
        "# ---\n",
        "#\n",
        "print(type(colors))"
      ],
      "execution_count": null,
      "outputs": []
    },
    {
      "cell_type": "markdown",
      "metadata": {
        "id": "aaDkAavRPg9F"
      },
      "source": [
        "##### <font color=\"blue\">Example 3"
      ]
    },
    {
      "cell_type": "code",
      "metadata": {
        "id": "EtuxtDlGPg9F"
      },
      "source": [
        "# Loop through a set using a `for loop`\n",
        "# ---\n",
        "#\n",
        "for x in colors:\n",
        "  print(x)"
      ],
      "execution_count": null,
      "outputs": []
    },
    {
      "cell_type": "markdown",
      "metadata": {
        "id": "o3FubeYJPg9G"
      },
      "source": [
        "##### <font color=\"blue\">Example 4"
      ]
    },
    {
      "cell_type": "code",
      "metadata": {
        "id": "8ANnzOtuPg9H"
      },
      "source": [
        "# Adding a new element to a set\n",
        "# ---\n",
        "#\n",
        "\n",
        "# printing out the set\n",
        "print(colors)\n",
        "\n",
        "# adding a new element\n",
        "colors.add(\"black\")\n",
        "\n",
        "# print the set\n",
        "# ---\n",
        "#\n",
        "print(colors)"
      ],
      "execution_count": null,
      "outputs": []
    },
    {
      "cell_type": "markdown",
      "metadata": {
        "id": "F-cYvbRLPg9H"
      },
      "source": [
        "##### <font color=\"blue\">Example 5"
      ]
    },
    {
      "cell_type": "code",
      "metadata": {
        "id": "0RAUJ54vPg9H"
      },
      "source": [
        "# Removing an element\n",
        "# ---\n",
        "#\n",
        "colors.remove(\"white\")\n",
        "\n",
        "# print the set\n",
        "# ---\n",
        "#\n",
        "print(colors)"
      ],
      "execution_count": null,
      "outputs": []
    },
    {
      "cell_type": "markdown",
      "metadata": {
        "id": "9JpHyMEVPg9H"
      },
      "source": [
        "##### <font color=\"blue\">Example 6"
      ]
    },
    {
      "cell_type": "code",
      "metadata": {
        "id": "DD3a1cO-Pg9H"
      },
      "source": [
        "# Check if element is present in a set\n",
        "# ---\n",
        "\n",
        "# print the set\n",
        "# ---\n",
        "#\n",
        "print(\"green\" in colors)"
      ],
      "execution_count": null,
      "outputs": []
    },
    {
      "cell_type": "markdown",
      "metadata": {
        "id": "8pqC5pJyPg9I"
      },
      "source": [
        "#### <font color=\"green\">Challenges</font>"
      ]
    },
    {
      "cell_type": "markdown",
      "metadata": {
        "id": "q66BN7RvPg9I"
      },
      "source": [
        "##### <font color=\"green\">Challenge 1</font>"
      ]
    },
    {
      "cell_type": "code",
      "metadata": {
        "id": "SVPauDWFPg9I"
      },
      "source": [
        "# Challenge 1\n",
        "# ---\n",
        "# Question: Create a `categories` set with the following values `sports`,\n",
        "# `outdoor recreation`, `cycling`, `camping and hiking`, `fishing`,\n",
        "# `hustling and fishing` and `fitness`\n",
        "# ---\n",
        "# YOUR CODE GOES BELOW\n",
        "#"
      ],
      "execution_count": null,
      "outputs": []
    },
    {
      "cell_type": "markdown",
      "metadata": {
        "id": "Mu9AI_JgPg9I"
      },
      "source": [
        "##### <font color=\"green\">Challenge 2</font>"
      ]
    },
    {
      "cell_type": "code",
      "metadata": {
        "id": "6d27wNqBPg9I"
      },
      "source": [
        "# Challenge 2\n",
        "# ---\n",
        "# Question: Check for the type of the `categories` set\n",
        "# ---\n",
        "# YOUR CODE GOES BELOW\n",
        "#"
      ],
      "execution_count": null,
      "outputs": []
    },
    {
      "cell_type": "markdown",
      "metadata": {
        "id": "fILA2wa1Pg9I"
      },
      "source": [
        "##### <font color=\"green\">Challenge 3</font>"
      ]
    },
    {
      "cell_type": "code",
      "metadata": {
        "id": "8W97-Sd3Pg9J"
      },
      "source": [
        "# Challenge 3\n",
        "# ---\n",
        "# Question: Loop through the `categories` set printing out each element\n",
        "# ---\n",
        "# YOUR CODE GOES BELOW\n",
        "#"
      ],
      "execution_count": null,
      "outputs": []
    },
    {
      "cell_type": "markdown",
      "metadata": {
        "id": "4aXsW2GUPg9J"
      },
      "source": [
        "##### <font color=\"green\">Challenge 4</font>"
      ]
    },
    {
      "cell_type": "code",
      "metadata": {
        "id": "BIBjmogLPg9J"
      },
      "source": [
        "# Challenge 4\n",
        "# ---\n",
        "# Question: Add the `cycling` element to the `categories` set and try to understand\n",
        "# why there was/wasn't a change in the set.\n",
        "# ---\n",
        "# YOUR CODE GOES BELOW\n",
        "#"
      ],
      "execution_count": null,
      "outputs": []
    },
    {
      "cell_type": "markdown",
      "metadata": {
        "id": "MEOskCnnPg9J"
      },
      "source": [
        "##### <font color=\"green\">Challenge 5</font>"
      ]
    },
    {
      "cell_type": "code",
      "metadata": {
        "id": "7jwCqqZAPg9J"
      },
      "source": [
        "# Challenge 5\n",
        "# ---\n",
        "# Question: Add a `football` element to the set\n",
        "# ---\n",
        "# YOUR CODE GOES BELOW\n",
        "#"
      ],
      "execution_count": null,
      "outputs": []
    },
    {
      "cell_type": "markdown",
      "metadata": {
        "id": "-b40aEogYPKP"
      },
      "source": [
        "##### <font color=\"green\">Challenge 6</font>"
      ]
    },
    {
      "cell_type": "code",
      "metadata": {
        "id": "7CyBRdDcYPKR"
      },
      "source": [
        "# Challenge 6\n",
        "# ---\n",
        "# Question: Remove the `football` element from the set and check whether it exists in the new set.\n",
        "# ---\n",
        "# YOUR CODE GOES BELOW\n",
        "#"
      ],
      "execution_count": null,
      "outputs": []
    },
    {
      "cell_type": "markdown",
      "metadata": {
        "id": "lY-G45bwqiq8"
      },
      "source": [
        "# 9. While Loops"
      ]
    },
    {
      "cell_type": "markdown",
      "metadata": {
        "id": "OoD5XCCPmMub"
      },
      "source": [
        "A **while loop** executes a set of statements as long as a condition is\n",
        "true."
      ]
    },
    {
      "cell_type": "markdown",
      "metadata": {
        "id": "pZnqvIFlqrcF"
      },
      "source": [
        "#### <font color=\"blue\">Examples</font>"
      ]
    },
    {
      "cell_type": "markdown",
      "metadata": {
        "id": "iO82jGS5qwik"
      },
      "source": [
        "##### <font color=\"blue\">Example 1"
      ]
    },
    {
      "cell_type": "code",
      "metadata": {
        "id": "Miw-1LdYqfoZ"
      },
      "source": [
        "# Example 1\n",
        "# ---\n",
        "# Just like a for loop, we can iterate over a list using the while loop.\n",
        "# The only difference is that the iteraction only happens when a certain\n",
        "# condition is true.\n",
        "# ---\n",
        "# YOUR CODE GOES BELOW\n",
        "#\n",
        "\n",
        "# First defining our list\n",
        "teachers = ['John', 'Ruth', 'Naomi', 'Esther', 'Liz', 'Stephen', 'Lona', 'Susan', 'Ian']\n",
        "\n",
        "# Our while loop will start counting from 0,\n",
        "i = 0\n",
        "\n",
        "# determining the no. of elements in our teachers list\n",
        "no_of_teachers = len(teachers)\n",
        "\n",
        "# Performing our iteration, starting from 0 until i is not less than the no_of_teachers\n",
        "while i < no_of_teachers:\n",
        "\n",
        "  # print out the element in the list as per the index\n",
        "  print(teachers[i])\n",
        "\n",
        "  # incrementing our i by 1\n",
        "  i += 1"
      ],
      "execution_count": null,
      "outputs": []
    },
    {
      "cell_type": "markdown",
      "metadata": {
        "id": "iU4HK7hrqiMO"
      },
      "source": [
        "##### <font color=\"blue\">Example 2"
      ]
    },
    {
      "cell_type": "code",
      "metadata": {
        "id": "OMGyf-1hqyQS"
      },
      "source": [
        "# Example 2\n",
        "# ---\n",
        "# Question: We can use a break statement to break out of the loop completely.\n",
        "# ---\n",
        "# YOUR CODE GOES BELOW\n",
        "#\n",
        "\n",
        "# Our while loop will start counting from 0,\n",
        "i = 0\n",
        "\n",
        "# determining the no. of elements in our teachers list\n",
        "no_of_teachers = len(teachers)\n",
        "\n",
        "# defining our word variable\n",
        "word = \"Emma\"\n",
        "\n",
        "\n",
        "# Performing our iteration, starting from 0 until i is not less than the no_of_teachers\n",
        "while i < no_of_teachers:\n",
        "\n",
        "  # print out the element in the list as per the index\n",
        "  if word == teachers[i]:\n",
        "\n",
        "      print(\"Find the element at position:\",i)\n",
        "\n",
        "      break\n",
        "\n",
        "  # incrementing our i by 1\n",
        "  i += 1"
      ],
      "execution_count": null,
      "outputs": []
    },
    {
      "cell_type": "markdown",
      "metadata": {
        "id": "UoUvopuiqz1A"
      },
      "source": [
        "##### <font color=\"blue\">Example 3"
      ]
    },
    {
      "cell_type": "code",
      "metadata": {
        "id": "OpzRASVXq07R"
      },
      "source": [
        "# Example 3\n",
        "# ---\n",
        "# Using the continue statement forces the next iteration of the loop to take place\n",
        "# ---\n",
        "# YOUR CODE GOES BELOW\n",
        "#\n",
        "\n",
        "# Our while loop will start counting from 0,\n",
        "i = 0\n",
        "\n",
        "# determining the no. of elements in our teachers list\n",
        "no_of_teachers = len(teachers)\n",
        "\n",
        "# defining our word variable\n",
        "word = \"Emma\"\n",
        "\n",
        "\n",
        "# Performing our iteration, starting from 0 until i is not less than the no_of_teachers\n",
        "while i < no_of_teachers:\n",
        "\n",
        "    print(\"Checking element:\", i)\n",
        "\n",
        "    if word != teachers[i]:\n",
        "\n",
        "        i = i + 1\n",
        "\n",
        "        continue\n",
        "\n",
        "    print(\"Find the element at \", i)\n",
        "\n",
        "    # stop the loop\n",
        "    i = no_of_teachers"
      ],
      "execution_count": null,
      "outputs": []
    },
    {
      "cell_type": "markdown",
      "metadata": {
        "id": "_BlOlAaNq4Aj"
      },
      "source": [
        "#### <font color=\"green\">Challenges</font>"
      ]
    },
    {
      "cell_type": "markdown",
      "metadata": {
        "id": "yDuSe7aAq56q"
      },
      "source": [
        "##### <font color=\"green\">Challenge 1</font>"
      ]
    },
    {
      "cell_type": "code",
      "metadata": {
        "id": "lDRkMkFIq7n5"
      },
      "source": [
        "# Challenge 1\n",
        "# ---\n",
        "# Question: Iterate through the following list and stop at 8\n",
        "# ---\n",
        "# YOUR CODE GOES BELOW\n",
        "#\n",
        "\n",
        "a = [1, 2, 4, 12, 1, 2, 3, (5, 6), ['Hello', 'From', 'The'], 8, 'Other', 'Side']\n"
      ],
      "execution_count": null,
      "outputs": []
    },
    {
      "cell_type": "markdown",
      "metadata": {
        "id": "rYrnAuYBryYC"
      },
      "source": [
        "# 10. Functions"
      ]
    },
    {
      "cell_type": "markdown",
      "metadata": {
        "id": "Y9MWH15wkq7e"
      },
      "source": [
        "A **function** is a block of organized, reusable code. We use functions to bundle a set of instructions that you want to use repeatedly."
      ]
    },
    {
      "cell_type": "markdown",
      "metadata": {
        "id": "WOi0gv2Dr83t"
      },
      "source": [
        "#### <font color=\"blue\">Examples</font>"
      ]
    },
    {
      "cell_type": "markdown",
      "metadata": {
        "id": "GgSYzCUYsCWG"
      },
      "source": [
        "##### <font color=\"blue\">Example 1"
      ]
    },
    {
      "cell_type": "code",
      "metadata": {
        "id": "0zJ1kn1BrwkV"
      },
      "source": [
        "# Example 1\n",
        "# ---\n",
        "# Let's first see some types of functions called built-in functions.\n",
        "# ---\n",
        "# NB: print() is a built in function.\n",
        "# max() is also another built in function.\n",
        "# ---\n",
        "# Instead of writing lots of code to perform printing and finding maximum tasks, Python already\n",
        "# has that code and we can access those sets of code using the print() and max() functions.\n",
        "# ---\n",
        "# YOUR CODE GOES BELOW\n",
        "#\n",
        "\n",
        "# The max() function will return the item with the highest value as shown\n",
        "# in the given list\n",
        "a = [23, 22, 55, 23, 44]\n",
        "x = max(a)\n",
        "print(x)\n",
        "\n",
        "# Using the max() function, we can return the item with the highest value alphabetically\n",
        "y = max([\"Susan\", \"Grace\", \"Simon\"])\n",
        "print(y)"
      ],
      "execution_count": null,
      "outputs": []
    },
    {
      "cell_type": "markdown",
      "metadata": {
        "id": "-bAG0iH2sDiV"
      },
      "source": [
        "##### <font color=\"blue\">Example 2"
      ]
    },
    {
      "cell_type": "code",
      "metadata": {
        "id": "0YQ7eSTvsEZP"
      },
      "source": [
        "# Example 2\n",
        "# ---\n",
        "# We can also define our own functions and store reusable code. Later use that\n",
        "# function whenever we want by calling that function.\n",
        "# ---\n",
        "# As an example, let's create a function to find out which of two numbers is greater than the other\n",
        "# ---\n",
        "# YOUR CODE GOES BELOW\n",
        "#\n",
        "\n",
        "# we define it by giving it the name max_of_two\n",
        "def max_of_two():\n",
        "\n",
        "  # we then define our variables that will contain the numbers to be manipulated\n",
        "  first_number  = 10\n",
        "  second_number = 5\n",
        "\n",
        "  # then we perform our operations i.e. in this case,\n",
        "  # if first_number is greater than second_number etc.\n",
        "  if first_number > second_number:\n",
        "\n",
        "      # the return keyword allows us to provide back the result/output of our function\n",
        "    return first_number\n",
        "\n",
        "    # the return key word allows us to provide back the result/output of our function\n",
        "  return second_number\n",
        "\n",
        "# Lastly, we do the most important step; which is to call the function that\n",
        "# we have just created above. Calling allows us to use the function.\n",
        "# We have also been calling our built-in functions from the previous section.\n",
        "#\n",
        "max_of_two()"
      ],
      "execution_count": null,
      "outputs": []
    },
    {
      "cell_type": "markdown",
      "metadata": {
        "id": "47gh_27esFHZ"
      },
      "source": [
        "##### <font color=\"blue\">Example 3"
      ]
    },
    {
      "cell_type": "code",
      "metadata": {
        "id": "a8odALGjsGJy"
      },
      "source": [
        "# Example 3\n",
        "# ---\n",
        "# Let's see another use case.\n",
        "# ---\n",
        "# We'll write a function called average_of_two_numbers that\n",
        "# finds the average of two numbers.\n",
        "# ---\n",
        "# YOUR CODE GOES BELOW\n",
        "#\n",
        "\n",
        "def average_of_two_numbers(x, y):\n",
        "  average_of_two_numbers = (x + y)/2\n",
        "  return print(average_of_two_numbers)\n",
        "\n",
        "average_of_two_numbers(4, 5)"
      ],
      "execution_count": null,
      "outputs": []
    },
    {
      "cell_type": "markdown",
      "metadata": {
        "id": "m1FOyDx-r_C_"
      },
      "source": [
        "#### <font color=\"green\">Challenges</font>"
      ]
    },
    {
      "cell_type": "markdown",
      "metadata": {
        "id": "PgsptduxsKGg"
      },
      "source": [
        "##### <font color=\"green\">Challenge 1</font>"
      ]
    },
    {
      "cell_type": "code",
      "metadata": {
        "id": "t4PE4y_Vr_1Q"
      },
      "source": [
        "# Challenge 1\n",
        "# ---\n",
        "# Question: Determine the lowest value in the given array using an inbuilt function\n",
        "# ---\n",
        "# YOUR CODE GOES BELOW\n",
        "#\n",
        "\n",
        "# Create a list x\n",
        "# ---\n",
        "#\n",
        "x = [23, 22, 55, 23, 44]\n",
        "\n"
      ],
      "execution_count": null,
      "outputs": []
    },
    {
      "cell_type": "markdown",
      "metadata": {
        "id": "88bM7tZ2sLI4"
      },
      "source": [
        "##### <font color=\"green\">Challenge 2</font>"
      ]
    },
    {
      "cell_type": "code",
      "metadata": {
        "id": "W7aQKJ96sL_F"
      },
      "source": [
        "# Challenge\n",
        "# ---\n",
        "# Question: Write a function to tell us whether a variable covid_count is between 3000 and 10000\n",
        "# ---\n",
        "# YOUR CODE GOES BELOW\n",
        "#\n",
        "\n",
        "# Declaring our variable covid_count\n",
        "# ---\n",
        "#\n",
        "covid_count = 4500\n",
        "\n",
        "# Your function goes here"
      ],
      "execution_count": null,
      "outputs": []
    },
    {
      "cell_type": "markdown",
      "metadata": {
        "id": "TM4pA_3kJ2YE"
      },
      "source": [
        "<font color=\"blue\">To use this notebook on Colaboratory, you will need to make a copy of it. Go to File > Save a Copy in Drive. You can then use the new copy that will appear in the new tab.</font>\n"
      ]
    },
    {
      "cell_type": "markdown",
      "metadata": {
        "id": "6YEN1jq9PtzP"
      },
      "source": [
        "# 11. Classes and Objects"
      ]
    },
    {
      "cell_type": "markdown",
      "source": [
        "We can also use classes and objects to organize our code."
      ],
      "metadata": {
        "id": "E1NnPLzUs_k4"
      }
    },
    {
      "cell_type": "markdown",
      "metadata": {
        "id": "GcjhR9kAPtzT"
      },
      "source": [
        "* A **class** is a user-defined blueprint that performs a set of related tasks.\n",
        "* Classes contain variables and methods which can be accessed and used by creating an instance of that class (i.e., an object).\n",
        "* Attributes are the variables that belong to a class. Methods are functions defined as part of a class.\n",
        "* The `__init__()` function is used to perform operations when creating an object, i.e., assign values to object properties, which are the mentioned attributes.\n",
        "* A `self` parameter refers to the current instance of the class and is used to access variables that belong to the class.\n"
      ]
    },
    {
      "cell_type": "markdown",
      "metadata": {
        "id": "f_VMd-XSPtzU"
      },
      "source": [
        "#### <font color=\"blue\">Examples</font>"
      ]
    },
    {
      "cell_type": "markdown",
      "metadata": {
        "id": "TlEbZxoPPtzU"
      },
      "source": [
        "##### <font color=\"blue\">Example 1"
      ]
    },
    {
      "cell_type": "code",
      "metadata": {
        "id": "IJ5QVHIpPtzU"
      },
      "source": [
        "# Example\n",
        "# ---\n",
        "# Let's create a class named House and define the init function and the getHouseDetails() method inside.\n",
        "# ---\n",
        "#\n",
        "class House:\n",
        "  def __init__(self):\n",
        "    self.bathrooms = 2\n",
        "    self.bedrooms = 3\n",
        "\n",
        "  def getHouseDetails(self):\n",
        "    print(\"The house has \" + str(self.bathrooms) + \" and \" + str(self.bedrooms) + \" bedrooms.\")"
      ],
      "execution_count": null,
      "outputs": []
    },
    {
      "cell_type": "code",
      "metadata": {
        "id": "yy8r4ZLPs93r"
      },
      "source": [
        "# Lastly, inorder to use that class, we need to instantiate it.\n",
        "# You can think of instantiating more like making a copy of it.\n",
        "# In this case we instantiate the class by creating an object, current_house.\n",
        "# ---\n",
        "#\n",
        "\n",
        "# Instantiating the class House\n",
        "# ---\n",
        "#\n",
        "current_house = House()\n",
        "\n",
        "# Calling the Class's House method in order to use it.\n",
        "# ---\n",
        "#\n",
        "current_house.getHouseDetails()"
      ],
      "execution_count": null,
      "outputs": []
    },
    {
      "cell_type": "markdown",
      "metadata": {
        "id": "YZ_A9HlhPtzW"
      },
      "source": [
        "#### <font color=\"green\">Challenges</font>"
      ]
    },
    {
      "cell_type": "markdown",
      "metadata": {
        "id": "NR4Jj5KOPtzX"
      },
      "source": [
        "##### <font color=\"green\">Challenge 1</font>"
      ]
    },
    {
      "cell_type": "code",
      "metadata": {
        "id": "MeLmkrxCPtzd"
      },
      "source": [
        "# Challenge 1\n",
        "# ---\n",
        "# Question: Create a `Supermarket` class that contains the attributes `staff` and `floors`\n",
        "# with values `50` and `4` respectively. The class also contains a method `getSupermarketDetails`\n",
        "# that prints out the statement `The supermarket has ... staff and ... bedrooms`.\n",
        "# ---\n",
        "# YOUR CODE GOES BELOW\n",
        "#\n"
      ],
      "execution_count": null,
      "outputs": []
    }
  ]
}